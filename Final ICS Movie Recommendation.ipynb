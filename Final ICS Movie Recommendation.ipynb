{
 "cells": [
  {
   "cell_type": "code",
   "execution_count": 2,
   "id": "d2f7da24",
   "metadata": {},
   "outputs": [],
   "source": [
    "import numpy as np\n",
    "import pandas as pd\n",
    "import difflib\n",
    "from sklearn.feature_extraction.text import TfidfVectorizer\n",
    "from sklearn.metrics.pairwise import cosine_similarity"
   ]
  },
  {
   "cell_type": "code",
   "execution_count": 3,
   "id": "0b18825e",
   "metadata": {},
   "outputs": [],
   "source": [
    "movie_data = pd.read_csv(\"movies.csv\")"
   ]
  },
  {
   "cell_type": "code",
   "execution_count": 5,
   "id": "e52ca188",
   "metadata": {},
   "outputs": [
    {
     "data": {
      "text/plain": [
       "(4803, 24)"
      ]
     },
     "execution_count": 5,
     "metadata": {},
     "output_type": "execute_result"
    }
   ],
   "source": [
    "#number of rows and columns in dataset\n",
    "\n",
    "movie_data.shape"
   ]
  },
  {
   "cell_type": "code",
   "execution_count": 6,
   "id": "8d5aee6b",
   "metadata": {},
   "outputs": [],
   "source": [
    "#picking the most relevant features/attributes for recommendation\n",
    "\n",
    "relevant_features = [\"genres\", \"keywords\", \"tagline\", \"cast\", \"director\"]\n"
   ]
  },
  {
   "cell_type": "code",
   "execution_count": 7,
   "id": "1fc4c996",
   "metadata": {},
   "outputs": [],
   "source": [
    "#replacing empty values with \"null\" to prevent the code from breaking\n",
    "\n",
    "for feature in relevant_features:\n",
    "    movie_data[feature] = movie_data[feature].fillna('')\n"
   ]
  },
  {
   "cell_type": "code",
   "execution_count": 8,
   "id": "30c715f7",
   "metadata": {},
   "outputs": [
    {
     "data": {
      "text/plain": [
       "0       Action Adventure Fantasy Science Fiction cultu...\n",
       "1       Adventure Fantasy Action ocean drug abuse exot...\n",
       "2       Action Adventure Crime spy based on novel secr...\n",
       "3       Action Crime Drama Thriller dc comics crime fi...\n",
       "4       Action Adventure Science Fiction based on nove...\n",
       "                              ...                        \n",
       "4798    Action Crime Thriller united states\\u2013mexic...\n",
       "4799    Comedy Romance  A newlywed couple's honeymoon ...\n",
       "4800    Comedy Drama Romance TV Movie date love at fir...\n",
       "4801      A New Yorker in Shanghai Daniel Henney Eliza...\n",
       "4802    Documentary obsession camcorder crush dream gi...\n",
       "Length: 4803, dtype: object"
      ]
     },
     "execution_count": 8,
     "metadata": {},
     "output_type": "execute_result"
    }
   ],
   "source": [
    "#combining all the relevant features \n",
    "\n",
    "combined_features = movie_data[\"genres\"]+\" \"+movie_data[\"keywords\"]+\" \"+movie_data[\"tagline\"]\\\n",
    "+\" \"+movie_data[\"cast\"]+\" \"+movie_data[\"director\"]\n",
    "\n",
    "combined_features"
   ]
  },
  {
   "cell_type": "code",
   "execution_count": 9,
   "id": "2e6d5b48",
   "metadata": {},
   "outputs": [],
   "source": [
    "#converting the text to feature vectors\n",
    "\n",
    "vectorizer = TfidfVectorizer()"
   ]
  },
  {
   "cell_type": "code",
   "execution_count": 68,
   "id": "ea15ac0a",
   "metadata": {},
   "outputs": [],
   "source": [
    "feature_vectors = vectorizer.fit_transform(combined_features)\n",
    "# print(feature_vectors) **COMMENTED OUT TO MAKE VIEW EXPERIENCE EASIER, THE PRINT OUTPUT IS SUPPPPPPER LONG**"
   ]
  },
  {
   "cell_type": "code",
   "execution_count": 59,
   "id": "4494dc7d",
   "metadata": {},
   "outputs": [],
   "source": [
    "#Using Cosine Similarity to get the similarity scores\n",
    "\n",
    "similarity = cosine_similarity(feature_vectors)\n",
    "# print(similarity) **COMMENTED OUT TO MAKE VIEW EXPERIENCE EASIER, THE PRINT OUTPUT IS SUPPPPPPER LONG**"
   ]
  },
  {
   "cell_type": "code",
   "execution_count": 12,
   "id": "5a1706d3",
   "metadata": {},
   "outputs": [
    {
     "name": "stdout",
     "output_type": "stream",
     "text": [
      "(4803, 4803)\n"
     ]
    }
   ],
   "source": [
    "print(similarity.shape)\n",
    "\n",
    "#this prints (4803, 4803) since it compares each movie (4803 )with all the rest 4803 times to see which ones are similar"
   ]
  },
  {
   "cell_type": "code",
   "execution_count": 23,
   "id": "80189990",
   "metadata": {},
   "outputs": [
    {
     "name": "stdout",
     "output_type": "stream",
     "text": [
      "Enter your favourite movie: avatar\n"
     ]
    }
   ],
   "source": [
    "#Getting the movie name from the user\n",
    "\n",
    "movie_name = input(\"Enter your favourite movie: \")"
   ]
  },
  {
   "cell_type": "code",
   "execution_count": 64,
   "id": "b1973b20",
   "metadata": {},
   "outputs": [],
   "source": [
    "#creating a list of all the movie names in the dataset\n",
    "\n",
    "list_of_all_titles = movie_data[\"title\"].tolist()\n",
    "# print(list_of_all_titles) **COMMENTED OUT TO MAKE VIEW EXPERIENCE EASIER, THE PRINT OUTPUT IS SUPPPPPPER LONG**"
   ]
  },
  {
   "cell_type": "code",
   "execution_count": 15,
   "id": "6834a8f7",
   "metadata": {},
   "outputs": [
    {
     "name": "stdout",
     "output_type": "stream",
     "text": [
      "['Iron Man', 'Iron Man 3', 'Iron Man 2']\n"
     ]
    }
   ],
   "source": [
    "#finding the close match for the movie name given by the user\n",
    "\n",
    "find_close_match = difflib.get_close_matches(movie_name, list_of_all_titles)\n",
    "print(find_close_match)"
   ]
  },
  {
   "cell_type": "code",
   "execution_count": 16,
   "id": "bcd34888",
   "metadata": {},
   "outputs": [
    {
     "data": {
      "text/plain": [
       "'Iron Man'"
      ]
     },
     "execution_count": 16,
     "metadata": {},
     "output_type": "execute_result"
    }
   ],
   "source": [
    "close_match = find_close_match[0]\n",
    "close_match"
   ]
  },
  {
   "cell_type": "code",
   "execution_count": 17,
   "id": "99b1933c",
   "metadata": {},
   "outputs": [
    {
     "data": {
      "text/plain": [
       "68"
      ]
     },
     "execution_count": 17,
     "metadata": {},
     "output_type": "execute_result"
    }
   ],
   "source": [
    "#finding the index (row) of the movie given its title \n",
    "\n",
    "index_of_movie = movie_data[movie_data.title == close_match][\"index\"].values[0]\n",
    "index_of_movie"
   ]
  },
  {
   "cell_type": "code",
   "execution_count": 60,
   "id": "4a5c7910",
   "metadata": {},
   "outputs": [],
   "source": [
    "#Getting a list of similar movies (The meat of the code)\n",
    "\n",
    "similarity_score = list(enumerate(similarity[index_of_movie]))\n",
    "similarity_score "
   ]
  },
  {
   "cell_type": "code",
   "execution_count": 19,
   "id": "e9616f70",
   "metadata": {},
   "outputs": [
    {
     "data": {
      "text/plain": [
       "4803"
      ]
     },
     "execution_count": 19,
     "metadata": {},
     "output_type": "execute_result"
    }
   ],
   "source": [
    "len(similarity_score)"
   ]
  },
  {
   "cell_type": "code",
   "execution_count": 69,
   "id": "6226a396",
   "metadata": {},
   "outputs": [],
   "source": [
    "#Sorting the movies based on their similarity score\n",
    "\n",
    "sorted_similar_movies = sorted(similarity_score, key = lambda x:x[1], reverse = True)\n",
    "# print(sorted_similar_movies) **COMMENTED OUT TO MAKE VIEW EXPERIENCE EASIER, THE PRINT OUTPUT IS SUPPPPPPER LONG**"
   ]
  },
  {
   "cell_type": "code",
   "execution_count": 33,
   "id": "d582a3b6",
   "metadata": {},
   "outputs": [
    {
     "name": "stdout",
     "output_type": "stream",
     "text": [
      "Movies suggested: \n",
      "\n",
      "1 . Iron Man\n",
      "2 . Iron Man 2\n",
      "3 . Iron Man 3\n",
      "4 . Avengers: Age of Ultron\n",
      "5 . The Avengers\n",
      "6 . Captain America: Civil War\n",
      "7 . Captain America: The Winter Soldier\n",
      "8 . Ant-Man\n",
      "9 . X-Men\n",
      "10 . Made\n",
      "11 . X-Men: Apocalypse\n",
      "12 . X2\n",
      "13 . The Incredible Hulk\n",
      "14 . The Helix... Loaded\n",
      "15 . X-Men: First Class\n",
      "16 . X-Men: Days of Future Past\n",
      "17 . Captain America: The First Avenger\n",
      "18 . Kick-Ass 2\n",
      "19 . Guardians of the Galaxy\n",
      "20 . Deadpool\n",
      "21 . Thor: The Dark World\n",
      "22 . G-Force\n",
      "23 . X-Men: The Last Stand\n",
      "24 . Duets\n",
      "25 . Mortdecai\n",
      "26 . The Last Airbender\n",
      "27 . Southland Tales\n",
      "28 . Zathura: A Space Adventure\n",
      "29 . Sky Captain and the World of Tomorrow\n"
     ]
    }
   ],
   "source": [
    "#converting index of movie to name\n",
    "\n",
    "print(\"Movies suggested: \\n\")\n",
    "\n",
    "i = 1\n",
    "\n",
    "for movie in sorted_similar_movies:\n",
    "    index = movie [0] \n",
    "    title_from_index = movie_data[movie_data.index == index][\"title\"].values[0]\n",
    "    if (i<30):\n",
    "        print(i,\".\",title_from_index)\n",
    "        i+=1"
   ]
  },
  {
   "cell_type": "code",
   "execution_count": 71,
   "id": "a22ead16",
   "metadata": {
    "scrolled": true
   },
   "outputs": [
    {
     "name": "stdout",
     "output_type": "stream",
     "text": [
      "Enter your favourite movie: batman\n",
      "Movies suggested: \n",
      "\n",
      "1 . Batman\n",
      "2 . Batman Returns\n",
      "3 . Batman & Robin\n",
      "4 . The Dark Knight Rises\n",
      "5 . Batman Begins\n",
      "6 . The Dark Knight\n",
      "7 . A History of Violence\n",
      "8 . Superman\n",
      "9 . Beetlejuice\n",
      "10 . Bedazzled\n"
     ]
    }
   ],
   "source": [
    "#FINAL PRODUCT\n",
    "\n",
    "movie_name = input(\"Enter your favourite movie: \")\n",
    "\n",
    "list_of_all_titles = movie_data[\"title\"].tolist()\n",
    "\n",
    "find_close_match = difflib.get_close_matches(movie_name, list_of_all_titles)\n",
    "\n",
    "close_match = find_close_match[0]\n",
    "\n",
    "index_of_movie = movie_data[movie_data.title == close_match][\"index\"].values[0]\n",
    "\n",
    "similarity_score = list(enumerate(similarity[index_of_movie]))\n",
    "\n",
    "\n",
    "sorted_similar_movies = sorted(similarity_score, key = lambda x:x[1], reverse = True)\n",
    "\n",
    "print(\"Movies suggested: \\n\")\n",
    "\n",
    "i = 1\n",
    "\n",
    "for movie in sorted_similar_movies:\n",
    "    index = movie [0] \n",
    "    title_from_index = movie_data[movie_data.index == index][\"title\"].values[0]\n",
    "    if (i<11):\n",
    "        print(i,\".\",title_from_index)\n",
    "        i+=1\n",
    "\n"
   ]
  },
  {
   "cell_type": "code",
   "execution_count": 53,
   "id": "1b908b05",
   "metadata": {},
   "outputs": [],
   "source": [
    "import pickle"
   ]
  },
  {
   "cell_type": "code",
   "execution_count": 56,
   "id": "2e09db41",
   "metadata": {},
   "outputs": [],
   "source": [
    "pickle.dump(combined_features,open('movie_data.pkl','wb'))\n",
    "pickle.dump(similarity,open('similarity.pkl','wb'))"
   ]
  },
  {
   "cell_type": "code",
   "execution_count": null,
   "id": "126115e5",
   "metadata": {},
   "outputs": [],
   "source": []
  }
 ],
 "metadata": {
  "kernelspec": {
   "display_name": "Python 3 (ipykernel)",
   "language": "python",
   "name": "python3"
  },
  "language_info": {
   "codemirror_mode": {
    "name": "ipython",
    "version": 3
   },
   "file_extension": ".py",
   "mimetype": "text/x-python",
   "name": "python",
   "nbconvert_exporter": "python",
   "pygments_lexer": "ipython3",
   "version": "3.9.12"
  }
 },
 "nbformat": 4,
 "nbformat_minor": 5
}
